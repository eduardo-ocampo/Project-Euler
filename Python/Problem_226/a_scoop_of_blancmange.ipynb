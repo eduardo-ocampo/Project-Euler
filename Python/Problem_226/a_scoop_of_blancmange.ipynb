{
 "cells": [
  {
   "cell_type": "markdown",
   "metadata": {},
   "source": [
    "# PROJECT EULER   -   PROBLEM 226"
   ]
  },
  {
   "cell_type": "markdown",
   "metadata": {},
   "source": [
    "#### Copyright (c) Eduardo Ocampo, All Rights Reserved               \n",
    "#### https://www.github.com/thatguyeddieo/Project-Euler           "
   ]
  },
  {
   "cell_type": "code",
   "execution_count": 2,
   "metadata": {},
   "outputs": [],
   "source": [
    "import numpy as np\n",
    "import matplotlib.pyplot as plt"
   ]
  },
  {
   "cell_type": "code",
   "execution_count": 3,
   "metadata": {},
   "outputs": [],
   "source": [
    "from geometry.shapes import circle\n",
    "from geometry.fractal import blancmange"
   ]
  },
  {
   "cell_type": "markdown",
   "metadata": {},
   "source": [
    "Numerical Setup"
   ]
  },
  {
   "cell_type": "code",
   "execution_count": 5,
   "metadata": {},
   "outputs": [],
   "source": [
    "dx = 1e-5\n",
    "x_spacing = 1e4"
   ]
  },
  {
   "cell_type": "markdown",
   "metadata": {},
   "source": [
    "Blancmange Curve Definition"
   ]
  },
  {
   "cell_type": "code",
   "execution_count": 6,
   "metadata": {},
   "outputs": [],
   "source": [
    "blanc = blancmange()"
   ]
  },
  {
   "cell_type": "markdown",
   "metadata": {},
   "source": [
    "Circle Definition"
   ]
  },
  {
   "cell_type": "code",
   "execution_count": 7,
   "metadata": {},
   "outputs": [],
   "source": [
    "circle_radius = 1/4\n",
    "circle_center = [1/4, 1/2]\n",
    "\n",
    "circle = circle(radius=circle_radius,\n",
    "                center=circle_center,\n",
    "                x_spacing=int(x_spacing),\n",
    "                x_lower_bound=x1,\n",
    "                x_upper_bound=x2\n",
    "                )"
   ]
  },
  {
   "cell_type": "markdown",
   "metadata": {},
   "source": [
    "Define Ranges for Integration and Plotting"
   ]
  },
  {
   "cell_type": "code",
   "execution_count": 8,
   "metadata": {},
   "outputs": [],
   "source": [
    "# Blancmange Summation Range\n",
    "n_range = range(0,n_upper)\n",
    "\n",
    "# Curve Intersection Range\n",
    "x_range = np.arange(x1,x2,dx)\n",
    "\n",
    "# Blancmange unit interval\n",
    "x_blanc_range = np.linspace(0,1, int(x_spacing))"
   ]
  },
  {
   "cell_type": "markdown",
   "metadata": {},
   "source": [
    "### Solve Problem: Integration"
   ]
  },
  {
   "cell_type": "markdown",
   "metadata": {},
   "source": [
    "Riemann Sum Method\n",
    "\n",
    "https://en.wikipedia.org/wiki/Riemann_sum"
   ]
  },
  {
   "cell_type": "code",
   "execution_count": 10,
   "metadata": {},
   "outputs": [],
   "source": [
    "# Method requires knowing intersections of curves\n",
    "ans = sum([(blanc.sum_calc(xs,n_range) - circle.yfunc_lower_semi(xs))*dx\n",
    "           for xs in x_range])"
   ]
  },
  {
   "cell_type": "markdown",
   "metadata": {},
   "source": [
    "### Make Plots"
   ]
  },
  {
   "cell_type": "markdown",
   "metadata": {},
   "source": [
    "Generate Blancmange Curve"
   ]
  },
  {
   "cell_type": "code",
   "execution_count": 11,
   "metadata": {},
   "outputs": [],
   "source": [
    "blanc_curve = [blanc.sum_calc(x,n_range) for x in x_blanc_range]\n",
    "intrsc_blanc_curve = [blanc.sum_calc(x,n_range) for x in circle.x_range]"
   ]
  },
  {
   "cell_type": "markdown",
   "metadata": {},
   "source": [
    "Generate Circle"
   ]
  },
  {
   "cell_type": "code",
   "execution_count": 12,
   "metadata": {},
   "outputs": [],
   "source": [
    "y_lower_circle = [circle.yfunc_lower_semi(x) for x in circle.x_range]"
   ]
  },
  {
   "cell_type": "code",
   "execution_count": 13,
   "metadata": {},
   "outputs": [
    {
     "data": {
      "image/png": "[encoded data removed]",
      "text/plain": [
       "<Figure size 432x288 with 1 Axes>"
      ]
     },
     "metadata": {
      "needs_background": "light"
     },
     "output_type": "display_data"
    }
   ],
   "source": [
    "plt.plot(circle.range, circle.domain, linestyle=\"dotted\", color=\"grey\")\n",
    "plt.plot(circle.x_range, y_lower_circle, color=\"black\")\n",
    "plt.plot(x_blanc_range, blanc_curve, color=\"hotpink\")\n",
    "plt.fill_between(circle.x_range, y_lower_circle, intrsc_blanc_curve, color=\"pink\")\n",
    "\n",
    "plt.title(\"A Scoop of Blancmange\",fontdict={\"weight\":\"bold\"})\n",
    "plt.axis(\"equal\")\n",
    "plt.show()"
   ]
  }
 ],
 "metadata": {
  "kernelspec": {
   "display_name": "base",
   "language": "python",
   "name": "python3"
  },
  "language_info": {
   "codemirror_mode": {
    "name": "ipython",
    "version": 3
   },
   "file_extension": ".py",
   "mimetype": "text/x-python",
   "name": "python",
   "nbconvert_exporter": "python",
   "pygments_lexer": "ipython3",
   "version": "3.8.3"
  }
 },
 "nbformat": 4,
 "nbformat_minor": 2
}
